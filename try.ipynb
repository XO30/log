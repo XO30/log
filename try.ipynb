{
 "cells": [
  {
   "cell_type": "code",
   "execution_count": null,
   "outputs": [],
   "source": [
    "from log import Logging"
   ],
   "metadata": {
    "collapsed": false,
    "pycharm": {
     "name": "#%%\n"
    }
   }
  },
  {
   "cell_type": "code",
   "execution_count": null,
   "outputs": [],
   "source": [
    "log = Logging('Test', file_name='log/test.log', file_mode='w', logging_level='DEBUG', console_output=True)"
   ],
   "metadata": {
    "collapsed": false,
    "pycharm": {
     "name": "#%%\n"
    }
   }
  },
  {
   "cell_type": "code",
   "execution_count": null,
   "outputs": [],
   "source": [
    "log.debug('hallo')\n",
    "log.info('das')\n",
    "log.warning('ist')\n",
    "log.error('ein')\n",
    "log.critical('test')\n",
    "\n",
    "@log.func_log\n",
    "def square(x:int):\n",
    "    \"\"\"\n",
    "    square of the input\n",
    "    :param x: int: number to square\n",
    "    :return: int: square of number\n",
    "    \"\"\"\n",
    "    1/0\n",
    "    return x ** 2\n",
    "\n",
    "square('2')"
   ],
   "metadata": {
    "collapsed": false,
    "pycharm": {
     "name": "#%%\n"
    }
   }
  }
 ],
 "metadata": {
  "kernelspec": {
   "display_name": "Python 3",
   "language": "python",
   "name": "python3"
  },
  "language_info": {
   "codemirror_mode": {
    "name": "ipython",
    "version": 2
   },
   "file_extension": ".py",
   "mimetype": "text/x-python",
   "name": "python",
   "nbconvert_exporter": "python",
   "pygments_lexer": "ipython2",
   "version": "2.7.6"
  }
 },
 "nbformat": 4,
 "nbformat_minor": 0
}